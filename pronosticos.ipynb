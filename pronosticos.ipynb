{
 "cells": [
  {
   "cell_type": "markdown",
   "metadata": {},
   "source": [
    "## Parte Mafer"
   ]
  },
  {
   "cell_type": "markdown",
   "metadata": {},
   "source": [
    "# Actividad 9.1. \n",
    "Elabore un resumen de máximo una cuartilla sobre la lectura de la sección de antecedentes en (INEI, 2002)"
   ]
  },
  {
   "cell_type": "markdown",
   "metadata": {},
   "source": [
    "La desestacionalización está asociada a la idea de que una serie de tiempo está constituida por componentes no observables. La idea de componentes no observables surge con un análisis económico en el siglo XIX, especificamente en Francia, donde se creó un comité encargado de proponer métodos para separar las componentes de la serie, con el fin básico de pronosticarlos por separado.\n",
    "Posteriormente, Estados Unidos trató de hacer lo mismo pero con la idea de construir un sistema de índices llamado \"barómetro de proyección del ciclo económico\". para apreciar las condiciones corrientes de la economía nacional y para el pronóstico de su desarrollo futuro.\n",
    "\n",
    "En 19192 Warren M. Person, publicó un artículo sobre los métodos de estudio y de pronóstico de las condiciones económicas generales de los Estados Unidos. El método de Pearson consiste en dos partes: primero, aislar estadísticamente los cambios ocasionados por las fluctuaciones en las condiciones de los negocios. Segundo, elaboración de cierto número de índices que señalarían en qué fase del ciclo económico se encuentra la economía general en un momento dado y que facilitarían un pronóstico de su desarrollo futuro.\n",
    "\n",
    "Los métodos para encontrar estos índices, determinar y aislar los procesos que reflejan el ciclo económico, se denominaron métodos de Harvard.\n",
    "En esta metodología se señala que la mayoría de las series presentan cuatro tipos de variaciones: 1) Variaciones que presentan cierta tendencia general 2) Fluctuaciones cíclicas o de la situación económica que aproximadamente corresponden a los ciclos económicos generales; 3) Fluctuaciones estacionales, que aparecen en series de datos trimestrales o mensuales; y 4) Fluctuaciones irregulares.\n",
    "\n",
    "El procedimiento empleado en la investigación de Harvard para obtener las fluctuaciones cíclicas como un componente representante de la influencia del ciclo económico general sobre la marcha de la economía es como sigue: Se aísla la tendencia de la serie cronológica, suponiendo que es el resultado de un complejo de causas que actúan sostenidamente en una dirección e inducen el crecimiento de la economía nacional. Si la serie es trimestral o mensual se hallan las fluctuaciones estacionales cuyas causas están ligadas con frecuencia, al movimiento de la tierra (cambios de temperatura, días más largos o más cortos), o a causas de carácter social y convencional, como la elevación de las ventas en períodos de vísperas de días festivos.\n",
    "Una vez que la tendencia y las fluctuaciones estacionales se han aislado, se sustraen de la serie original.\n",
    "Es necesario mencionar al respecto, que la Escuela de Harvard sostenía que un cierto conjunto de causas produce la tendencia, independientemente de otro conjunto de causas que inducen las variaciones cíclicas.\n",
    "En el largo plazo, lo que determina el movimiento de la series son factores. Estos factores son los que caracterizan la componente permanente o la tendencia de la serie. Además las fluctuaciones de las series alrededor de su componente permanente se define como componente cíclica.\n",
    "\n",
    "Actualmente se han desarrollado procedimientos sofisticados para descomponer una serie de tiempo, en particular efectuar la desestacionalización de la serie (X11 ARIMA, X12 ARIMA), así como, una importante experiencia en el tratamiento empírico de los ciclos, tratando de caracterizarlos y prever su dinámica a través de un conjunto de series económicas utilizadas como indicadores de los ciclos de los negocios, clasificados en indicadores conducentes, coincidentes y retrasados."
   ]
  },
  {
   "cell_type": "markdown",
   "metadata": {},
   "source": []
  },
  {
   "cell_type": "markdown",
   "metadata": {},
   "source": [
    "## Parte Raúl"
   ]
  },
  {
   "cell_type": "markdown",
   "metadata": {},
   "source": []
  }
 ],
 "metadata": {
  "language_info": {
   "name": "python"
  },
  "orig_nbformat": 4
 },
 "nbformat": 4,
 "nbformat_minor": 2
}
